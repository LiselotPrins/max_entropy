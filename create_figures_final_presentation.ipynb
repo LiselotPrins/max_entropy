{
 "cells": [
  {
   "cell_type": "code",
   "execution_count": null,
   "id": "773da3ee",
   "metadata": {},
   "outputs": [],
   "source": [
    "import numpy as np\n",
    "from autograd import numpy as anp\n",
    "import  matplotlib.pyplot as plt\n",
    "from matplotlib import ticker\n",
    "from python_files.maxent import MaxEnt\n",
    "import python_files.densities as d"
   ]
  },
  {
   "cell_type": "markdown",
   "id": "b55a6c2a",
   "metadata": {},
   "source": [
    "Create 2D plots of Q: real vs. approximated with n-point quadrature\n",
    "\n",
    "Recreate Performance plot Laplace, but now with one panel (left one).\n",
    "\n",
    "Create Skewness-kurtosis figures"
   ]
  }
 ],
 "metadata": {
  "language_info": {
   "name": "python"
  }
 },
 "nbformat": 4,
 "nbformat_minor": 5
}
